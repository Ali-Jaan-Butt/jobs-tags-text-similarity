{
 "cells": [
  {
   "cell_type": "code",
   "execution_count": 1,
   "id": "f59ad87b-afb4-4e26-8cad-fa4abb0b3596",
   "metadata": {},
   "outputs": [
    {
     "name": "stderr",
     "output_type": "stream",
     "text": [
      "/Users/hassanazhar/anaconda3/lib/python3.11/site-packages/sentence_transformers/cross_encoder/CrossEncoder.py:11: TqdmExperimentalWarning: Using `tqdm.autonotebook.tqdm` in notebook mode. Use `tqdm.tqdm` instead to force console mode (e.g. in jupyter console)\n",
      "  from tqdm.autonotebook import tqdm, trange\n",
      "2025-02-19 15:22:40.757565: I tensorflow/core/platform/cpu_feature_guard.cc:210] This TensorFlow binary is optimized to use available CPU instructions in performance-critical operations.\n",
      "To enable the following instructions: AVX2 FMA, in other operations, rebuild TensorFlow with the appropriate compiler flags.\n"
     ]
    }
   ],
   "source": [
    "from sentence_transformers import SentenceTransformer, util\n",
    "import torch"
   ]
  },
  {
   "cell_type": "code",
   "execution_count": 2,
   "id": "1e04d75a-41d4-43d5-9951-eb359eaca838",
   "metadata": {},
   "outputs": [
    {
     "name": "stderr",
     "output_type": "stream",
     "text": [
      "/Users/hassanazhar/anaconda3/lib/python3.11/site-packages/huggingface_hub/file_download.py:1132: FutureWarning: `resume_download` is deprecated and will be removed in version 1.0.0. Downloads always resume when possible. If you want to force a new download, use `force_download=True`.\n",
      "  warnings.warn(\n"
     ]
    }
   ],
   "source": [
    "model = SentenceTransformer('paraphrase-MiniLM-L6-v2')"
   ]
  },
  {
   "cell_type": "code",
   "execution_count": 11,
   "id": "bb8951f8-1cd0-4960-9796-15e37d8a3700",
   "metadata": {},
   "outputs": [],
   "source": [
    "job_descriptions = [\n",
    "    \"I want someone that can create a model for my project about NLP and neural network AI.\",\n",
    "    \"Looking for a front-end developer with expertise in JavaScript and React.\",\n",
    "    \"I want someone to build me an ai model that can detect objects.\"\n",
    "]"
   ]
  },
  {
   "cell_type": "code",
   "execution_count": 12,
   "id": "19f87512-50aa-431b-88af-47e9058a1acc",
   "metadata": {},
   "outputs": [],
   "source": [
    "profiles = [\n",
    "    [\"machine learning\"]\n",
    "]"
   ]
  },
  {
   "cell_type": "code",
   "execution_count": 13,
   "id": "6cd299ec-3bd2-495e-beec-6f2938c4517e",
   "metadata": {},
   "outputs": [],
   "source": [
    "job_embeddings = model.encode(job_descriptions, convert_to_tensor=True)"
   ]
  },
  {
   "cell_type": "code",
   "execution_count": 14,
   "id": "597b88da-31ff-4361-9d2f-877e023208af",
   "metadata": {},
   "outputs": [],
   "source": [
    "matching_jobs = []"
   ]
  },
  {
   "cell_type": "code",
   "execution_count": 17,
   "id": "cf563ccb-f2cc-4be5-92d4-6c6d1c238347",
   "metadata": {},
   "outputs": [],
   "source": [
    "for profile in profiles:\n",
    "    skill_embeddings = model.encode(profile, convert_to_tensor=True)\n",
    "\n",
    "    matched_jobs = []\n",
    "    for i, job_embedding in enumerate(job_embeddings):\n",
    "        similarity_scores = util.pytorch_cos_sim(skill_embeddings, job_embedding)  # Compare all skills with the job\n",
    "\n",
    "        # Check if **all** skills have at least one match in the job description\n",
    "        if torch.all(similarity_scores.max(dim=1).values >= 0.3):  # Threshold for each skill\n",
    "            matched_jobs.append(job_descriptions[i])\n",
    "\n",
    "    matching_jobs.append(matched_jobs)"
   ]
  },
  {
   "cell_type": "code",
   "execution_count": 18,
   "id": "0b88ee2b-b04d-4c84-a95b-a7bd019a4336",
   "metadata": {},
   "outputs": [
    {
     "name": "stdout",
     "output_type": "stream",
     "text": [
      "Profile 1 (['machine learning', 'web development']) matches the following jobs:\n",
      " - I want someone that can create a model for my project about NLP and neural network AI.\n"
     ]
    }
   ],
   "source": [
    "for i, matches in enumerate(matching_jobs):\n",
    "    print(f\"Profile {i+1} ({profiles[i]}) matches the following jobs:\")\n",
    "    for job in matches:\n",
    "        print(f\" - {job}\")\n",
    "    if not matches:\n",
    "        print(\" - No matches found.\")"
   ]
  },
  {
   "cell_type": "code",
   "execution_count": null,
   "id": "ef258d29-6173-4a34-b7c9-11cbe8e82553",
   "metadata": {},
   "outputs": [],
   "source": []
  }
 ],
 "metadata": {
  "kernelspec": {
   "display_name": "Python 3 (ipykernel)",
   "language": "python",
   "name": "python3"
  },
  "language_info": {
   "codemirror_mode": {
    "name": "ipython",
    "version": 3
   },
   "file_extension": ".py",
   "mimetype": "text/x-python",
   "name": "python",
   "nbconvert_exporter": "python",
   "pygments_lexer": "ipython3",
   "version": "3.11.3"
  }
 },
 "nbformat": 4,
 "nbformat_minor": 5
}
