{
 "cells": [
  {
   "cell_type": "code",
   "execution_count": 47,
   "id": "f59ad87b-afb4-4e26-8cad-fa4abb0b3596",
   "metadata": {},
   "outputs": [],
   "source": [
    "from sentence_transformers import SentenceTransformer, util"
   ]
  },
  {
   "cell_type": "code",
   "execution_count": 49,
   "id": "1e04d75a-41d4-43d5-9951-eb359eaca838",
   "metadata": {},
   "outputs": [],
   "source": [
    "model = SentenceTransformer('paraphrase-MiniLM-L6-v2')"
   ]
  },
  {
   "cell_type": "code",
   "execution_count": 50,
   "id": "bb8951f8-1cd0-4960-9796-15e37d8a3700",
   "metadata": {},
   "outputs": [],
   "source": [
    "job_descriptions = [\"I want someone who can create a website for me. It would be an e-commrece website. Use React and php\"]"
   ]
  },
  {
   "cell_type": "code",
   "execution_count": 51,
   "id": "19f87512-50aa-431b-88af-47e9058a1acc",
   "metadata": {},
   "outputs": [],
   "source": [
    "profile_tag1 = [\"machine learning, Python, data science\"]"
   ]
  },
  {
   "cell_type": "code",
   "execution_count": 52,
   "id": "c1780aef-87f6-47e6-b2f4-6a2fe25d5182",
   "metadata": {},
   "outputs": [],
   "source": [
    "profile_tag2 = [\"JavaScript, web development, HTML, CSS\"]"
   ]
  },
  {
   "cell_type": "code",
   "execution_count": 53,
   "id": "6cd299ec-3bd2-495e-beec-6f2938c4517e",
   "metadata": {},
   "outputs": [],
   "source": [
    "job_embeddings = model.encode(job_descriptions, convert_to_tensor=True)"
   ]
  },
  {
   "cell_type": "code",
   "execution_count": 54,
   "id": "597b88da-31ff-4361-9d2f-877e023208af",
   "metadata": {},
   "outputs": [],
   "source": [
    "profile_embeddings1 = model.encode(profile_tag1, convert_to_tensor=True)"
   ]
  },
  {
   "cell_type": "code",
   "execution_count": 55,
   "id": "cf563ccb-f2cc-4be5-92d4-6c6d1c238347",
   "metadata": {},
   "outputs": [],
   "source": [
    "profile_embeddings2 = model.encode(profile_tag2, convert_to_tensor=True)"
   ]
  },
  {
   "cell_type": "code",
   "execution_count": 56,
   "id": "0b88ee2b-b04d-4c84-a95b-a7bd019a4336",
   "metadata": {},
   "outputs": [],
   "source": [
    "similarity_scores1 = util.pytorch_cos_sim(job_embeddings, profile_embeddings1)"
   ]
  },
  {
   "cell_type": "code",
   "execution_count": 57,
   "id": "f9fcb1ad-7531-4483-aefe-b1df6595622d",
   "metadata": {},
   "outputs": [],
   "source": [
    "similarity_scores2 = util.pytorch_cos_sim(job_embeddings, profile_embeddings2)"
   ]
  },
  {
   "cell_type": "code",
   "execution_count": 58,
   "id": "838b20bd-c01e-483d-b624-5ce897eb4130",
   "metadata": {},
   "outputs": [
    {
     "data": {
      "text/plain": [
       "tensor([[0.0878]])"
      ]
     },
     "execution_count": 58,
     "metadata": {},
     "output_type": "execute_result"
    }
   ],
   "source": [
    "similarity_scores1"
   ]
  },
  {
   "cell_type": "code",
   "execution_count": 59,
   "id": "f32620c9-93d4-4c87-b0c1-9bfe0bd4a832",
   "metadata": {},
   "outputs": [
    {
     "data": {
      "text/plain": [
       "tensor([[0.3645]])"
      ]
     },
     "execution_count": 59,
     "metadata": {},
     "output_type": "execute_result"
    }
   ],
   "source": [
    "similarity_scores2"
   ]
  },
  {
   "cell_type": "code",
   "execution_count": 60,
   "id": "29ca1e9d-7821-4b45-9cd5-be0fd6371fab",
   "metadata": {},
   "outputs": [
    {
     "name": "stdout",
     "output_type": "stream",
     "text": [
      "Given to the web developer\n"
     ]
    }
   ],
   "source": [
    "if similarity_scores1>similarity_scores2:\n",
    "    print('Given to the Data Scientist')\n",
    "elif similarity_scores2>similarity_scores1:\n",
    "    print('Given to the web developer')"
   ]
  },
  {
   "cell_type": "code",
   "execution_count": null,
   "id": "7effb22b-0570-4b06-94cf-398f4f7ee2d5",
   "metadata": {},
   "outputs": [],
   "source": []
  }
 ],
 "metadata": {
  "kernelspec": {
   "display_name": "Python 3 (ipykernel)",
   "language": "python",
   "name": "python3"
  },
  "language_info": {
   "codemirror_mode": {
    "name": "ipython",
    "version": 3
   },
   "file_extension": ".py",
   "mimetype": "text/x-python",
   "name": "python",
   "nbconvert_exporter": "python",
   "pygments_lexer": "ipython3",
   "version": "3.11.3"
  }
 },
 "nbformat": 4,
 "nbformat_minor": 5
}
