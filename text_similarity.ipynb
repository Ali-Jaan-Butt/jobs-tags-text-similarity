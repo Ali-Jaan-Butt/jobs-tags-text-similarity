{
 "cells": [
  {
   "cell_type": "code",
   "execution_count": 9,
   "id": "f59ad87b-afb4-4e26-8cad-fa4abb0b3596",
   "metadata": {},
   "outputs": [],
   "source": [
    "from sentence_transformers import SentenceTransformer, util"
   ]
  },
  {
   "cell_type": "code",
   "execution_count": 10,
   "id": "1e04d75a-41d4-43d5-9951-eb359eaca838",
   "metadata": {},
   "outputs": [
    {
     "name": "stderr",
     "output_type": "stream",
     "text": [
      "/Users/hassanazhar/anaconda3/lib/python3.11/site-packages/huggingface_hub/file_download.py:1132: FutureWarning: `resume_download` is deprecated and will be removed in version 1.0.0. Downloads always resume when possible. If you want to force a new download, use `force_download=True`.\n",
      "  warnings.warn(\n"
     ]
    }
   ],
   "source": [
    "model = SentenceTransformer('paraphrase-MiniLM-L6-v2')"
   ]
  },
  {
   "cell_type": "code",
   "execution_count": 38,
   "id": "bb8951f8-1cd0-4960-9796-15e37d8a3700",
   "metadata": {},
   "outputs": [],
   "source": [
    "job_descriptions = [\n",
    "    \"I want someone that can create a model for my project about NLP and neural network AI.\",\n",
    "    \"Looking for a front-end developer with expertise in JavaScript and React.\",\n",
    "    \"I want someone to build me an ai model that can detect objects.\"\n",
    "]"
   ]
  },
  {
   "cell_type": "code",
   "execution_count": 45,
   "id": "19f87512-50aa-431b-88af-47e9058a1acc",
   "metadata": {},
   "outputs": [],
   "source": [
    "profiles = [\n",
    "    [\"machine learning\"],\n",
    "    # [\"JavaScript, web development, HTML, CSS\"]\n",
    "]"
   ]
  },
  {
   "cell_type": "code",
   "execution_count": 46,
   "id": "6cd299ec-3bd2-495e-beec-6f2938c4517e",
   "metadata": {},
   "outputs": [],
   "source": [
    "job_embeddings = model.encode(job_descriptions, convert_to_tensor=True)"
   ]
  },
  {
   "cell_type": "code",
   "execution_count": 47,
   "id": "b67fde88-d453-45a6-a417-4702922b9c6b",
   "metadata": {},
   "outputs": [],
   "source": [
    "profile_embeddings = [\n",
    "    model.encode(profile[0].split(\", \"), convert_to_tensor=True).mean(dim=0)\n",
    "    for profile in profiles\n",
    "]"
   ]
  },
  {
   "cell_type": "code",
   "execution_count": 48,
   "id": "597b88da-31ff-4361-9d2f-877e023208af",
   "metadata": {},
   "outputs": [],
   "source": [
    "matching_jobs = []"
   ]
  },
  {
   "cell_type": "code",
   "execution_count": 49,
   "id": "cf563ccb-f2cc-4be5-92d4-6c6d1c238347",
   "metadata": {},
   "outputs": [],
   "source": [
    "for profile_embedding in profile_embeddings:\n",
    "    similarity_scores = util.pytorch_cos_sim(job_embeddings, profile_embedding.unsqueeze(0))\n",
    "    \n",
    "    # Set threshold and find matches\n",
    "    threshold = 0.3  # Lowered for better matching\n",
    "    matched = [\n",
    "        job_descriptions[i]\n",
    "        for i in range(len(job_descriptions))\n",
    "        if similarity_scores[i][0] >= threshold\n",
    "    ]\n",
    "    \n",
    "    matching_jobs.append(matched)"
   ]
  },
  {
   "cell_type": "code",
   "execution_count": 50,
   "id": "0b88ee2b-b04d-4c84-a95b-a7bd019a4336",
   "metadata": {},
   "outputs": [
    {
     "name": "stdout",
     "output_type": "stream",
     "text": [
      "Profile 1 matches the following jobs:\n",
      " - I want someone that can create a model for my project about NLP and neural network AI.\n",
      " - I want someone to build me an ai model that can detect objects.\n"
     ]
    }
   ],
   "source": [
    "for i, matches in enumerate(matching_jobs):\n",
    "    print(f\"Profile {i+1} matches the following jobs:\")\n",
    "    for job in matches:\n",
    "        print(f\" - {job}\")\n",
    "    if not matches:\n",
    "        print(\" - No matches found.\")"
   ]
  },
  {
   "cell_type": "code",
   "execution_count": null,
   "id": "ef258d29-6173-4a34-b7c9-11cbe8e82553",
   "metadata": {},
   "outputs": [],
   "source": []
  }
 ],
 "metadata": {
  "kernelspec": {
   "display_name": "Python 3 (ipykernel)",
   "language": "python",
   "name": "python3"
  },
  "language_info": {
   "codemirror_mode": {
    "name": "ipython",
    "version": 3
   },
   "file_extension": ".py",
   "mimetype": "text/x-python",
   "name": "python",
   "nbconvert_exporter": "python",
   "pygments_lexer": "ipython3",
   "version": "3.11.3"
  }
 },
 "nbformat": 4,
 "nbformat_minor": 5
}
